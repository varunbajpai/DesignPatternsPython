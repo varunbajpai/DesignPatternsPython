{
 "cells": [
  {
   "cell_type": "code",
   "execution_count": 1,
   "metadata": {},
   "outputs": [],
   "source": [
    "class Image:\n",
    "    def __init__( self, filename ):\n",
    "        self._filename = filename\n",
    "    def load_image_from_disk( self ):\n",
    "        print(\"Output: loading \" + self._filename )\n",
    "    def display_image( self ):\n",
    "        print(\"Output: display \" + self._filename)\n",
    "        \n",
    "class Proxy:\n",
    "    def __init__( self, subject ):\n",
    "        self._subject = subject\n",
    "        self._proxystate = None\n",
    "        \n",
    "class ProxyImage( Proxy ):\n",
    "    def display_image( self ):\n",
    "        if self._proxystate == None:\n",
    "            self._subject.load_image_from_disk()\n",
    "            self._proxystate = 1\n",
    "        print(\"Output: display \" + self._subject._filename )"
   ]
  },
  {
   "cell_type": "code",
   "execution_count": 2,
   "metadata": {},
   "outputs": [
    {
     "name": "stdout",
     "output_type": "stream",
     "text": [
      "Output: loading HiRes_10Mb_Photo1\n",
      "Output: display HiRes_10Mb_Photo1\n",
      "Output: display HiRes_10Mb_Photo1\n"
     ]
    }
   ],
   "source": [
    "proxy_image1 = ProxyImage (Image(\"HiRes_10Mb_Photo1\"))\n",
    "proxy_image2 = ProxyImage (Image(\"HiRes_10Mb_Photo2\"))\n",
    "proxy_image1.display_image() # loading necessary\n",
    "proxy_image1.display_image() # loading unnecessary"
   ]
  }
 ],
 "metadata": {
  "kernelspec": {
   "display_name": "Python 3",
   "language": "python",
   "name": "python3"
  },
  "language_info": {
   "codemirror_mode": {
    "name": "ipython",
    "version": 3
   },
   "file_extension": ".py",
   "mimetype": "text/x-python",
   "name": "python",
   "nbconvert_exporter": "python",
   "pygments_lexer": "ipython3",
   "version": "3.7.3"
  }
 },
 "nbformat": 4,
 "nbformat_minor": 2
}
