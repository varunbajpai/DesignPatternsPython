{
 "cells": [
  {
   "cell_type": "code",
   "execution_count": 1,
   "metadata": {},
   "outputs": [],
   "source": [
    "from abc import ABC, abstractmethod"
   ]
  },
  {
   "cell_type": "code",
   "execution_count": 2,
   "metadata": {},
   "outputs": [],
   "source": [
    "class Pizza(ABC):\n",
    "    description = 'Unknown Pizza'\n",
    "    def __init__(self):\n",
    "        pass\n",
    "    @abstractmethod\n",
    "    def get_cost(self):\n",
    "        pass\n",
    "    @abstractmethod\n",
    "    def get_description(self):\n",
    "        pass"
   ]
  },
  {
   "cell_type": "code",
   "execution_count": 3,
   "metadata": {},
   "outputs": [],
   "source": [
    "class ToppingsDecorator(ABC):\n",
    "    def __init__(self):\n",
    "        pass\n",
    "    @abstractmethod\n",
    "    def get_description(self):\n",
    "        pass\n",
    "    @abstractmethod\n",
    "    def get_cost(self):\n",
    "        pass    "
   ]
  },
  {
   "cell_type": "code",
   "execution_count": 4,
   "metadata": {},
   "outputs": [],
   "source": [
    "class PeppyPaneer(Pizza):\n",
    "    def __init__(self):\n",
    "        super().__init__()\n",
    "    def get_description(self):\n",
    "        self.description = 'Peppy Paneer'\n",
    "        return self.description\n",
    "    def get_cost(self):\n",
    "        return 100"
   ]
  },
  {
   "cell_type": "code",
   "execution_count": 5,
   "metadata": {},
   "outputs": [],
   "source": [
    "class FarmHouse(Pizza):\n",
    "    def __init__(self):\n",
    "        super().__init__()\n",
    "    def get_description(self):\n",
    "        self.description = 'Farm House'\n",
    "        return self.description            \n",
    "    def get_cost(self):\n",
    "        return 200"
   ]
  },
  {
   "cell_type": "code",
   "execution_count": 6,
   "metadata": {},
   "outputs": [],
   "source": [
    "class FreshTomato(ToppingsDecorator):\n",
    "    def __init__(self,Pizza):\n",
    "        self.Pizza = Pizza\n",
    "        \n",
    "    def get_description(self):\n",
    "        return self.Pizza.get_description() + 'Fresh Tomato Topping'\n",
    "\n",
    "    def get_cost(self):\n",
    "        return self.Pizza.get_cost() + 52"
   ]
  },
  {
   "cell_type": "code",
   "execution_count": 7,
   "metadata": {},
   "outputs": [],
   "source": [
    "class FreshCapsicum(ToppingsDecorator):\n",
    "    def __init__(self,Pizza):\n",
    "        self.Pizza = Pizza\n",
    "        \n",
    "    def get_description(self):\n",
    "        return self.Pizza.get_description() + 'Fresh Capsicum Topping'\n",
    "    \n",
    "    def get_cost(self):\n",
    "        return self.Pizza.get_cost() + 55"
   ]
  },
  {
   "cell_type": "code",
   "execution_count": 8,
   "metadata": {},
   "outputs": [
    {
     "data": {
      "text/plain": [
       "'Peppy Paneer'"
      ]
     },
     "execution_count": 8,
     "metadata": {},
     "output_type": "execute_result"
    }
   ],
   "source": [
    "pizza = PeppyPaneer()\n",
    "pizza.get_description()"
   ]
  },
  {
   "cell_type": "code",
   "execution_count": 9,
   "metadata": {},
   "outputs": [
    {
     "data": {
      "text/plain": [
       "100"
      ]
     },
     "execution_count": 9,
     "metadata": {},
     "output_type": "execute_result"
    }
   ],
   "source": [
    "pizza.get_cost()"
   ]
  },
  {
   "cell_type": "code",
   "execution_count": 10,
   "metadata": {},
   "outputs": [],
   "source": [
    "fresh_tomato_topping = FreshTomato(pizza)"
   ]
  },
  {
   "cell_type": "code",
   "execution_count": 11,
   "metadata": {},
   "outputs": [
    {
     "data": {
      "text/plain": [
       "'Peppy PaneerFresh Tomato Topping'"
      ]
     },
     "execution_count": 11,
     "metadata": {},
     "output_type": "execute_result"
    }
   ],
   "source": [
    "fresh_tomato_topping.get_description()"
   ]
  },
  {
   "cell_type": "code",
   "execution_count": 12,
   "metadata": {},
   "outputs": [
    {
     "data": {
      "text/plain": [
       "152"
      ]
     },
     "execution_count": 12,
     "metadata": {},
     "output_type": "execute_result"
    }
   ],
   "source": [
    "fresh_tomato_topping.get_cost()"
   ]
  },
  {
   "cell_type": "code",
   "execution_count": null,
   "metadata": {},
   "outputs": [],
   "source": []
  }
 ],
 "metadata": {
  "kernelspec": {
   "display_name": "Python 3",
   "language": "python",
   "name": "python3"
  },
  "language_info": {
   "codemirror_mode": {
    "name": "ipython",
    "version": 3
   },
   "file_extension": ".py",
   "mimetype": "text/x-python",
   "name": "python",
   "nbconvert_exporter": "python",
   "pygments_lexer": "ipython3",
   "version": "3.7.3"
  }
 },
 "nbformat": 4,
 "nbformat_minor": 2
}
