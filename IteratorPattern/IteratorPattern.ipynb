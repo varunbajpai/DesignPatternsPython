{
 "cells": [
  {
   "cell_type": "code",
   "execution_count": 1,
   "metadata": {},
   "outputs": [],
   "source": [
    "from abc import ABC, abstractmethod"
   ]
  },
  {
   "cell_type": "code",
   "execution_count": 2,
   "metadata": {},
   "outputs": [],
   "source": [
    "class Notification:\n",
    "    type_of_notification = ''\n",
    "    def __init__(self, type_of_notification):\n",
    "        self.type_of_notification = type_of_notification\n",
    "        #Can include other type of notification parameters as well"
   ]
  },
  {
   "cell_type": "code",
   "execution_count": 3,
   "metadata": {},
   "outputs": [],
   "source": [
    "class NotificationIterator:\n",
    "    _notifications_collection = []\n",
    "    def __init__(self):\n",
    "        print('add(Notification(\"Message of notification\")): To add a notification')\n",
    "        print('iterate()): To iterate through the collection list')\n",
    "    \n",
    "    def iterate(self):\n",
    "        for notification in self._notifications_collection:\n",
    "            print(notification.type_of_notification)\n",
    "    def add(self,Notification):\n",
    "        self._notifications_collection.append(Notification)"
   ]
  },
  {
   "cell_type": "code",
   "execution_count": 4,
   "metadata": {},
   "outputs": [
    {
     "name": "stdout",
     "output_type": "stream",
     "text": [
      "add(Notification(\"Message of notification\")): To add a notification\n",
      "iterate()): To iterate through the collection list\n"
     ]
    }
   ],
   "source": [
    "collection = NotificationIterator()"
   ]
  },
  {
   "cell_type": "code",
   "execution_count": 5,
   "metadata": {},
   "outputs": [],
   "source": [
    "collection.add(Notification('Twitter Notification'))\n",
    "collection.add(Notification('Google Notification'))\n",
    "collection.add(Notification('Amazon Notification'))"
   ]
  },
  {
   "cell_type": "code",
   "execution_count": 6,
   "metadata": {},
   "outputs": [
    {
     "name": "stdout",
     "output_type": "stream",
     "text": [
      "Twitter Notification\n",
      "Google Notification\n",
      "Amazon Notification\n"
     ]
    }
   ],
   "source": [
    "collection.iterate()"
   ]
  },
  {
   "cell_type": "code",
   "execution_count": null,
   "metadata": {},
   "outputs": [],
   "source": []
  }
 ],
 "metadata": {
  "kernelspec": {
   "display_name": "Python 3",
   "language": "python",
   "name": "python3"
  },
  "language_info": {
   "codemirror_mode": {
    "name": "ipython",
    "version": 3
   },
   "file_extension": ".py",
   "mimetype": "text/x-python",
   "name": "python",
   "nbconvert_exporter": "python",
   "pygments_lexer": "ipython3",
   "version": "3.7.3"
  }
 },
 "nbformat": 4,
 "nbformat_minor": 2
}
