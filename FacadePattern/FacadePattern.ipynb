{
 "cells": [
  {
   "cell_type": "code",
   "execution_count": 3,
   "metadata": {},
   "outputs": [
    {
     "name": "stdout",
     "output_type": "stream",
     "text": [
      "Output: System 1 Operation 1\n",
      "Output: System 1 Operation 2\n"
     ]
    }
   ],
   "source": [
    "class Facade:\n",
    "    def __init__(self):\n",
    "        self._subsystem_1 = Subsystem1()\n",
    "    def operation(self):\n",
    "        self._subsystem_1.operation1()\n",
    "        self._subsystem_1.operation2()\n",
    "\n",
    "class Subsystem1:\n",
    "    def operation1(self):\n",
    "        print('Output: System 1 Operation 1')\n",
    "    def operation2(self):\n",
    "        print('Output: System 1 Operation 2')\n",
    "\n",
    "def main():\n",
    "    facade = Facade()\n",
    "    facade.operation()\n",
    "\n",
    "if __name__ == \"__main__\":\n",
    "    main()"
   ]
  },
  {
   "cell_type": "code",
   "execution_count": null,
   "metadata": {},
   "outputs": [],
   "source": []
  },
  {
   "cell_type": "code",
   "execution_count": null,
   "metadata": {},
   "outputs": [],
   "source": []
  }
 ],
 "metadata": {
  "kernelspec": {
   "display_name": "Python 3",
   "language": "python",
   "name": "python3"
  },
  "language_info": {
   "codemirror_mode": {
    "name": "ipython",
    "version": 3
   },
   "file_extension": ".py",
   "mimetype": "text/x-python",
   "name": "python",
   "nbconvert_exporter": "python",
   "pygments_lexer": "ipython3",
   "version": "3.7.3"
  }
 },
 "nbformat": 4,
 "nbformat_minor": 2
}
