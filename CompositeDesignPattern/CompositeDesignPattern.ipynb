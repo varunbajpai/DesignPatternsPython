{
 "cells": [
  {
   "cell_type": "code",
   "execution_count": 1,
   "metadata": {},
   "outputs": [],
   "source": [
    "from abc import ABC, abstractmethod"
   ]
  },
  {
   "cell_type": "code",
   "execution_count": 2,
   "metadata": {},
   "outputs": [],
   "source": [
    "#Abstract Class\n",
    "class Employee(ABC):\n",
    "    @abstractmethod\n",
    "    def showEmployeeDetails(): pass"
   ]
  },
  {
   "cell_type": "code",
   "execution_count": 3,
   "metadata": {},
   "outputs": [],
   "source": [
    "#Leaf Class\n",
    "class Developer(Employee):\n",
    "    def __init__(self,empid,name,position):\n",
    "        self.empid = empid\n",
    "        self.name = name\n",
    "        self.position = position\n",
    "    def showEmployeeDetails(self):\n",
    "        print('Output: ',self.empid, self.name)"
   ]
  },
  {
   "cell_type": "code",
   "execution_count": 4,
   "metadata": {},
   "outputs": [],
   "source": [
    "#Leaf Class\n",
    "class Manager(Employee):\n",
    "    def __init__(self,empid,name,position):\n",
    "        self.empid = empid\n",
    "        self.name = name\n",
    "        self.position = position\n",
    "    def showEmployeeDetails(self):\n",
    "        print('Output: ',self.empid, self.name, self.position)"
   ]
  },
  {
   "cell_type": "code",
   "execution_count": 5,
   "metadata": {},
   "outputs": [],
   "source": [
    "#Composite Class \n",
    "class CompanyDirectory(Employee):\n",
    "    all_employees = []\n",
    "    def addEmployee(cls, employee):\n",
    "        cls.all_employees.append(employee)\n",
    "    def showEmployeeDetails(cls):\n",
    "        for emp in cls.all_employees:\n",
    "            emp.showEmployeeDetails()"
   ]
  },
  {
   "cell_type": "code",
   "execution_count": 6,
   "metadata": {},
   "outputs": [],
   "source": [
    "#driver function\n",
    "def main():\n",
    "    dev1 = Developer(100, \"Lokesh Sharma\", \"Pro Developer\"); \n",
    "    dev2 = Developer(101, \"Vinay Sharma\", \"Developer\"); \n",
    "    engDirectory =  CompanyDirectory(); \n",
    "    engDirectory.addEmployee(dev1); \n",
    "    engDirectory.addEmployee(dev2); \n",
    "    man1 =  Manager(200, \"Kushagra Garg\", \"SEO Manager\"); \n",
    "    man2 =  Manager(201, \"Vikram Sharma \", \"Kushagra's Manager\"); \n",
    "    accDirectory =  CompanyDirectory(); \n",
    "    accDirectory.addEmployee(man1); \n",
    "    accDirectory.addEmployee(man2); \n",
    "    accDirectory.showEmployeeDetails(); "
   ]
  },
  {
   "cell_type": "code",
   "execution_count": 7,
   "metadata": {
    "scrolled": true
   },
   "outputs": [
    {
     "name": "stdout",
     "output_type": "stream",
     "text": [
      "Output:  100 Lokesh Sharma\n",
      "Output:  101 Vinay Sharma\n",
      "Output:  200 Kushagra Garg SEO Manager\n",
      "Output:  201 Vikram Sharma  Kushagra's Manager\n"
     ]
    }
   ],
   "source": [
    "main()"
   ]
  }
 ],
 "metadata": {
  "kernelspec": {
   "display_name": "Python 3",
   "language": "python",
   "name": "python3"
  },
  "language_info": {
   "codemirror_mode": {
    "name": "ipython",
    "version": 3
   },
   "file_extension": ".py",
   "mimetype": "text/x-python",
   "name": "python",
   "nbconvert_exporter": "python",
   "pygments_lexer": "ipython3",
   "version": "3.7.3"
  }
 },
 "nbformat": 4,
 "nbformat_minor": 2
}
