{
 "cells": [
  {
   "cell_type": "code",
   "execution_count": 1,
   "metadata": {},
   "outputs": [],
   "source": [
    "from abc import ABC, abstractmethod"
   ]
  },
  {
   "cell_type": "code",
   "execution_count": 3,
   "metadata": {},
   "outputs": [],
   "source": [
    "class Abstraction:\n",
    "    def __init__(self, imp):\n",
    "        self._imp = imp\n",
    "        \n",
    "    def operation(self):\n",
    "        self._imp.operation_imp()\n",
    "\n",
    "class Implementor(ABC):\n",
    "    @abstractmethod\n",
    "    def operation_imp(self):\n",
    "        pass\n",
    "\n",
    "class ConcreteImplementorA(Implementor):\n",
    "    def operation_imp(self):\n",
    "        pass\n",
    "\n",
    "class ConcreteImplementorB(Implementor):\n",
    "    def operation_imp(self):\n",
    "        pass\n",
    "\n",
    "def main():\n",
    "    concrete_implementor_a = ConcreteImplementorA()\n",
    "    abstraction = Abstraction(concrete_implementor_a)\n",
    "    abstraction.operation()"
   ]
  },
  {
   "cell_type": "code",
   "execution_count": 4,
   "metadata": {},
   "outputs": [],
   "source": [
    "if __name__ == \"__main__\":\n",
    "    main()"
   ]
  },
  {
   "cell_type": "code",
   "execution_count": null,
   "metadata": {},
   "outputs": [],
   "source": []
  }
 ],
 "metadata": {
  "kernelspec": {
   "display_name": "Python 3",
   "language": "python",
   "name": "python3"
  },
  "language_info": {
   "codemirror_mode": {
    "name": "ipython",
    "version": 3
   },
   "file_extension": ".py",
   "mimetype": "text/x-python",
   "name": "python",
   "nbconvert_exporter": "python",
   "pygments_lexer": "ipython3",
   "version": "3.7.3"
  }
 },
 "nbformat": 4,
 "nbformat_minor": 2
}
