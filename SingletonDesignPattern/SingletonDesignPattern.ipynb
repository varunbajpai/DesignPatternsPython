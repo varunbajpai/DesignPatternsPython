{
 "cells": [
  {
   "cell_type": "code",
   "execution_count": 4,
   "metadata": {
    "scrolled": true
   },
   "outputs": [],
   "source": [
    "from singleton_decorator import singleton"
   ]
  },
  {
   "cell_type": "code",
   "execution_count": 5,
   "metadata": {},
   "outputs": [
    {
     "name": "stdout",
     "output_type": "stream",
     "text": [
      "Does Something & val passed is  22\n",
      "Output: object already exists\n",
      "Output: AttributeError: Object Already Exists, Within Singleton Pattern\n"
     ]
    }
   ],
   "source": [
    "class Singleton: \n",
    "    obj = None \n",
    "    @classmethod\n",
    "    def increment(cls,self):\n",
    "        cls.obj = self\n",
    "        \n",
    "    def __init__(self,val):\n",
    "        if isinstance(self.obj, Singleton):\n",
    "            print('Output: object already exists')\n",
    "        else:\n",
    "            self.val = val\n",
    "            self.increment(self)\n",
    "\n",
    "    def do_something(self):\n",
    "        print('Does Something & val passed is ',self.val)\n",
    "\n",
    "obj = Singleton(22)\n",
    "obj.do_something()\n",
    "# Output: Does Something & val passed is  22\n",
    "obj2 = Singleton(23)\n",
    "try:\n",
    "    obj2.do_something()\n",
    "except AttributeError:\n",
    "    print('Output: AttributeError: Object Already Exists, Within Singleton Pattern')\n"
   ]
  },
  {
   "cell_type": "code",
   "execution_count": 6,
   "metadata": {},
   "outputs": [
    {
     "name": "stdout",
     "output_type": "stream",
     "text": [
      "Does Something & val passed is  22\n"
     ]
    }
   ],
   "source": [
    "from singleton_decorator import singleton\n",
    "@singleton\n",
    "class Singleton:  \n",
    "    def __init__(self,val):\n",
    "        self.val = val\n",
    "\n",
    "    def do_something(self):\n",
    "        print('Does Something & val passed is ',self.val)\n",
    "obj = Singleton(22)\n",
    "obj.do_something()"
   ]
  },
  {
   "cell_type": "code",
   "execution_count": null,
   "metadata": {},
   "outputs": [],
   "source": []
  }
 ],
 "metadata": {
  "kernelspec": {
   "display_name": "Python 3",
   "language": "python",
   "name": "python3"
  },
  "language_info": {
   "codemirror_mode": {
    "name": "ipython",
    "version": 3
   },
   "file_extension": ".py",
   "mimetype": "text/x-python",
   "name": "python",
   "nbconvert_exporter": "python",
   "pygments_lexer": "ipython3",
   "version": "3.7.3"
  }
 },
 "nbformat": 4,
 "nbformat_minor": 2
}
