{
 "cells": [
  {
   "cell_type": "code",
   "execution_count": 1,
   "metadata": {},
   "outputs": [],
   "source": [
    "class Singleton: \n",
    "    obj = None \n",
    "    @classmethod\n",
    "    def increment(cls,self):\n",
    "        cls.obj = self\n",
    "        \n",
    "    def __init__(self,val):\n",
    "        if isinstance(self.obj, Singleton):\n",
    "            print('Output: object already exists')\n",
    "        else:\n",
    "            self.val = val\n",
    "            self.increment(self)\n",
    "\n",
    "    def do_something(self, val2):\n",
    "        print('Does Something & val passed is ',self.val,val2)"
   ]
  },
  {
   "cell_type": "code",
   "execution_count": 2,
   "metadata": {},
   "outputs": [
    {
     "name": "stdout",
     "output_type": "stream",
     "text": [
      "Does Something & val passed is  22 24\n"
     ]
    }
   ],
   "source": [
    "obj = Singleton(22)\n",
    "obj.do_something(24)"
   ]
  },
  {
   "cell_type": "code",
   "execution_count": 3,
   "metadata": {
    "scrolled": true
   },
   "outputs": [
    {
     "name": "stdout",
     "output_type": "stream",
     "text": [
      "Output: object already exists\n",
      "Output: AttributeError: Object Already Exists, Within Singleton Pattern\n"
     ]
    }
   ],
   "source": [
    "obj2 = Singleton(23)\n",
    "try:\n",
    "    obj2.do_something(25)\n",
    "except AttributeError:\n",
    "    print('Output: AttributeError: Object Already Exists, Within Singleton Pattern')"
   ]
  },
  {
   "cell_type": "code",
   "execution_count": 4,
   "metadata": {},
   "outputs": [],
   "source": [
    "obj2 = obj"
   ]
  },
  {
   "cell_type": "code",
   "execution_count": 5,
   "metadata": {},
   "outputs": [
    {
     "name": "stdout",
     "output_type": "stream",
     "text": [
      "Does Something & val passed is  22 26\n"
     ]
    }
   ],
   "source": [
    "obj2.do_something(26)"
   ]
  },
  {
   "cell_type": "code",
   "execution_count": 6,
   "metadata": {},
   "outputs": [
    {
     "name": "stdout",
     "output_type": "stream",
     "text": [
      "Does Something & val passed is  22 24\n"
     ]
    }
   ],
   "source": [
    "obj.do_something(24)"
   ]
  },
  {
   "cell_type": "code",
   "execution_count": null,
   "metadata": {},
   "outputs": [],
   "source": []
  }
 ],
 "metadata": {
  "kernelspec": {
   "display_name": "Python 3",
   "language": "python",
   "name": "python3"
  },
  "language_info": {
   "codemirror_mode": {
    "name": "ipython",
    "version": 3
   },
   "file_extension": ".py",
   "mimetype": "text/x-python",
   "name": "python",
   "nbconvert_exporter": "python",
   "pygments_lexer": "ipython3",
   "version": "3.7.3"
  }
 },
 "nbformat": 4,
 "nbformat_minor": 2
}
