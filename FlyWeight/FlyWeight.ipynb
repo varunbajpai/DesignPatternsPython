{
 "cells": [
  {
   "cell_type": "code",
   "execution_count": 17,
   "metadata": {},
   "outputs": [],
   "source": [
    "class Families(object):\n",
    "    family = {}\n",
    "    genetic_info = ''\n",
    "    def __new__(cls, name, family_id):\n",
    "        try:\n",
    "            id = cls.family[family_id]\n",
    "        except KeyError:\n",
    "            id = object.__new__(cls)\n",
    "            cls.family[family_id] = id\n",
    "        return id\n",
    "    \n",
    "    def set_genetic_info(self, genetic_info):\n",
    "        self.genetic_info = genetic_info\n",
    "\n",
    "    def get_genetic_info(self):\n",
    "        return 'Genetic Code: ' + self.genetic_info"
   ]
  },
  {
   "cell_type": "code",
   "execution_count": 18,
   "metadata": {},
   "outputs": [],
   "source": [
    "data = (('a', 1, 'ATAG'), ('a', 2, 'AAGT'), ('b', 1, 'ATAG'))\n",
    "family_objects = []\n",
    "for i in data:\n",
    "    obj = Families(i[0], i[1])\n",
    "    obj.set_genetic_info(i[2])\n",
    "    family_objects.append(obj)"
   ]
  },
  {
   "cell_type": "code",
   "execution_count": 19,
   "metadata": {},
   "outputs": [
    {
     "name": "stdout",
     "output_type": "stream",
     "text": [
      "id = 4540360856\n",
      "Genetic Code: ATAG\n",
      "id = 4540360912\n",
      "Genetic Code: AAGT\n",
      "id = 4540360856\n",
      "Genetic Code: ATAG\n"
     ]
    }
   ],
   "source": [
    "for i in family_objects:\n",
    "    print( \"id = \" + str(id(i)))\n",
    "    print (i.get_genetic_info())"
   ]
  },
  {
   "cell_type": "code",
   "execution_count": null,
   "metadata": {},
   "outputs": [],
   "source": []
  }
 ],
 "metadata": {
  "kernelspec": {
   "display_name": "Python 3",
   "language": "python",
   "name": "python3"
  },
  "language_info": {
   "codemirror_mode": {
    "name": "ipython",
    "version": 3
   },
   "file_extension": ".py",
   "mimetype": "text/x-python",
   "name": "python",
   "nbconvert_exporter": "python",
   "pygments_lexer": "ipython3",
   "version": "3.7.3"
  }
 },
 "nbformat": 4,
 "nbformat_minor": 2
}
