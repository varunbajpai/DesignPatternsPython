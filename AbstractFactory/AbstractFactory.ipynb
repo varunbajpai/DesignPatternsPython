{
 "cells": [
  {
   "cell_type": "code",
   "execution_count": 1,
   "metadata": {},
   "outputs": [],
   "source": [
    "from abc import ABC, abstractmethod"
   ]
  },
  {
   "cell_type": "code",
   "execution_count": 2,
   "metadata": {
    "scrolled": true
   },
   "outputs": [
    {
     "name": "stdout",
     "output_type": "stream",
     "text": [
      "Inside Circle::draw() method.\n",
      "Inside Rectangle::draw() method.\n",
      "Inside Red::fill() method.\n",
      "Inside Green::fill() method.\n"
     ]
    }
   ],
   "source": [
    "class Shape(ABC):\n",
    "    @abstractmethod\n",
    "    def draw(self):\n",
    "        pass\n",
    "\n",
    "class Color(ABC):\n",
    "    @abstractmethod\n",
    "    def fill(self):\n",
    "        pass\n",
    "\n",
    "class AbstractFactory(ABC):\n",
    "    @abstractmethod\n",
    "    def get_color(self):\n",
    "        pass\n",
    "\n",
    "    @abstractmethod\n",
    "    def get_shape(self):\n",
    "        pass\n",
    "    \n",
    "class Rectangle(Shape):\n",
    "    def draw(self):\n",
    "        print(\"Inside Rectangle::draw() method.\")\n",
    "\n",
    "class Circle(Shape):\n",
    "    def draw(self):\n",
    "        print(\"Inside Circle::draw() method.\")\n",
    "\n",
    "class Red(Color):\n",
    "    def fill(self):\n",
    "        print(\"Inside Red::fill() method.\")\n",
    "\n",
    "class Green(Color):\n",
    "    def fill(self):\n",
    "        print(\"Inside Green::fill() method.\")\n",
    "\n",
    "class ShapeFactory(AbstractFactory):\n",
    "    def get_shape(self, shape_type):\n",
    "        if shape_type == None:\n",
    "            return None\n",
    "        if shape_type == \"CIRCLE\":\n",
    "            return Circle()\n",
    "        elif shape_type == \"RECTANGLE\":\n",
    "            return Rectangle()\n",
    "        elif shape_type == \"SQUARE\":\n",
    "            return Square()\n",
    "\n",
    "        return None\n",
    "\n",
    "    def get_color(self):\n",
    "        return None\n",
    "\n",
    "\n",
    "class ColorFactory(AbstractFactory):\n",
    "    def get_color(self, color_type):\n",
    "        if color_type == None:\n",
    "            return None\n",
    "\n",
    "        if color_type == \"RED\":\n",
    "            return Red()\n",
    "        elif color_type == \"GREEN\":\n",
    "            return Green()\n",
    "        elif color_type == \"BLUE\":\n",
    "            return Blue()\n",
    "\n",
    "        return None\n",
    "\n",
    "    def get_shape(self):\n",
    "        return None\n",
    "\n",
    "\n",
    "class FactoryProducer:\n",
    "    @staticmethod\n",
    "    def get_factory(choice):\n",
    "        if choice == \"SHAPE\":\n",
    "            return ShapeFactory()\n",
    "        elif choice == \"COLOR\":\n",
    "            return ColorFactory()\n",
    "        return None\n",
    "\n",
    "\n",
    "if __name__ == '__main__':\n",
    "    shape_factory = FactoryProducer.get_factory(\"SHAPE\")\n",
    "    shape1 = shape_factory.get_shape(\"CIRCLE\")\n",
    "    shape1.draw()\n",
    "    shape2 = shape_factory.get_shape(\"RECTANGLE\")\n",
    "    shape2.draw()\n",
    "\n",
    "    color_factory = FactoryProducer.get_factory(\"COLOR\")\n",
    "    color1 = color_factory.get_color(\"RED\")\n",
    "    color1.fill()\n",
    "    color2 = color_factory.get_color(\"GREEN\")\n",
    "    color2.fill()"
   ]
  },
  {
   "cell_type": "code",
   "execution_count": null,
   "metadata": {},
   "outputs": [],
   "source": []
  }
 ],
 "metadata": {
  "kernelspec": {
   "display_name": "Python 3",
   "language": "python",
   "name": "python3"
  },
  "language_info": {
   "codemirror_mode": {
    "name": "ipython",
    "version": 3
   },
   "file_extension": ".py",
   "mimetype": "text/x-python",
   "name": "python",
   "nbconvert_exporter": "python",
   "pygments_lexer": "ipython3",
   "version": "3.7.3"
  }
 },
 "nbformat": 4,
 "nbformat_minor": 2
}
