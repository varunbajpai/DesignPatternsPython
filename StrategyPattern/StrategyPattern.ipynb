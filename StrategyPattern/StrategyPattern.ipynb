{
 "cells": [
  {
   "cell_type": "code",
   "execution_count": 1,
   "metadata": {},
   "outputs": [],
   "source": [
    "from abc import ABC, abstractmethod"
   ]
  },
  {
   "cell_type": "code",
   "execution_count": 2,
   "metadata": {},
   "outputs": [],
   "source": [
    "class Fighter(ABC):\n",
    "    def __init__(self):\n",
    "        pass\n",
    "    def punch(self):\n",
    "        print(\"Default Punch\")\n",
    "    def roll(self):\n",
    "        print(\"Default Roll\")\n",
    "    @abstractmethod\n",
    "    def display(self):\n",
    "        pass\n",
    "    @abstractmethod\n",
    "    def kick(self):\n",
    "        pass\n",
    "\n",
    "class Ryu(Fighter):\n",
    "    def __init__(self, kickbehavior):\n",
    "        self.kickbehavior = kickbehavior\n",
    "    def kick(self):\n",
    "        return self.kickbehavior.kick()\n",
    "    def display(self):\n",
    "        print('Fighter Ryu')\n",
    "        \n",
    "class Ken(Fighter):\n",
    "    def __init__(self, kickbehavior):\n",
    "        self.kickbehavior = kickbehavior\n",
    "    def kick(self):\n",
    "        return self.kickbehavior.kick()\n",
    "    def display(self):\n",
    "        print('Fighter Ryu')"
   ]
  },
  {
   "cell_type": "code",
   "execution_count": 3,
   "metadata": {},
   "outputs": [],
   "source": [
    "class KickBehavior(ABC):\n",
    "    def __init__(self):\n",
    "        pass\n",
    "    @abstractmethod\n",
    "    def kick(self):\n",
    "        pass\n",
    "class LightningKick(KickBehavior):\n",
    "    def kick(self):\n",
    "        print(\"Output: Lightening Kick\")\n",
    "class TornadoKick(KickBehavior):\n",
    "    def kick(self):\n",
    "        print(\"Output: Tornado Kick\")"
   ]
  },
  {
   "cell_type": "code",
   "execution_count": 4,
   "metadata": {},
   "outputs": [
    {
     "name": "stdout",
     "output_type": "stream",
     "text": [
      "Output: Lightening Kick\n"
     ]
    }
   ],
   "source": [
    "fighter1 = Ryu(LightningKick())\n",
    "fighter1.kick()"
   ]
  },
  {
   "cell_type": "code",
   "execution_count": 5,
   "metadata": {},
   "outputs": [
    {
     "name": "stdout",
     "output_type": "stream",
     "text": [
      "Output: Tornado Kick\n"
     ]
    }
   ],
   "source": [
    "fighter2 = Ryu(TornadoKick())\n",
    "fighter2.kick()"
   ]
  }
 ],
 "metadata": {
  "kernelspec": {
   "display_name": "Python 3",
   "language": "python",
   "name": "python3"
  },
  "language_info": {
   "codemirror_mode": {
    "name": "ipython",
    "version": 3
   },
   "file_extension": ".py",
   "mimetype": "text/x-python",
   "name": "python",
   "nbconvert_exporter": "python",
   "pygments_lexer": "ipython3",
   "version": "3.7.3"
  }
 },
 "nbformat": 4,
 "nbformat_minor": 2
}
