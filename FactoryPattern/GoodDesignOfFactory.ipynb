{
 "cells": [
  {
   "cell_type": "code",
   "execution_count": 2,
   "metadata": {},
   "outputs": [],
   "source": [
    "from abc import ABC, abstractmethod\n",
    "objects_enum = {\n",
    "    'TwoWheeler' : TwoWheeler(),\n",
    "    'FourWheeler' : FourWheeler()\n",
    "}\n",
    "class Vehicle(ABC):\n",
    "    def __init__(self):\n",
    "        pass\n",
    "    @abstractmethod\n",
    "    def printVehicle():\n",
    "        pass\n",
    "class TwoWheeler(Vehicle):\n",
    "    def __init__(self):\n",
    "        super().__init__()\n",
    "    def printVehicle(self):\n",
    "        print('Output: This is a Two Wheeler')\n",
    "class FourWheeler(Vehicle):\n",
    "    def __init__(self):\n",
    "        super().__init__()\n",
    "    def printVehicle(self):\n",
    "        print('Output: This is a Four Wheeler')"
   ]
  },
  {
   "cell_type": "code",
   "execution_count": 3,
   "metadata": {},
   "outputs": [],
   "source": [
    "def object_factory(object_name):\n",
    "    return objects_enum[object_name]"
   ]
  },
  {
   "cell_type": "code",
   "execution_count": 4,
   "metadata": {},
   "outputs": [
    {
     "name": "stdout",
     "output_type": "stream",
     "text": [
      "Output: This is a Two Wheeler\n"
     ]
    }
   ],
   "source": [
    "if __name__ == \"__main__\":\n",
    "    object_factory(\"TwoWheeler\").printVehicle()"
   ]
  },
  {
   "cell_type": "code",
   "execution_count": null,
   "metadata": {},
   "outputs": [],
   "source": []
  }
 ],
 "metadata": {
  "kernelspec": {
   "display_name": "Python 3",
   "language": "python",
   "name": "python3"
  },
  "language_info": {
   "codemirror_mode": {
    "name": "ipython",
    "version": 3
   },
   "file_extension": ".py",
   "mimetype": "text/x-python",
   "name": "python",
   "nbconvert_exporter": "python",
   "pygments_lexer": "ipython3",
   "version": "3.7.3"
  }
 },
 "nbformat": 4,
 "nbformat_minor": 2
}
