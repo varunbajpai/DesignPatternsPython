{
 "cells": [
  {
   "cell_type": "code",
   "execution_count": 9,
   "metadata": {},
   "outputs": [
    {
     "name": "stdout",
     "output_type": "stream",
     "text": [
      "*****Monthly report*****\n",
      "Things are going\n",
      "really, really well.\n"
     ]
    }
   ],
   "source": [
    "class ReportFormat(object):\n",
    "    PDF = 0\n",
    "    TEXT = 1\n",
    "class Report(object):\n",
    "    def __init__(self, format_):\n",
    "        self.title = 'Monthly report'\n",
    "        self.text = ['Things are going', 'really, really well.']\n",
    "        self.format_ = format_\n",
    "\n",
    "class Handler(object):\n",
    "    def __init__(self):\n",
    "        self.nextHandler = None\n",
    "\n",
    "    def handle(self, request):\n",
    "        self.nextHandler.handle(request)\n",
    "\n",
    "class PDFHandler(Handler):\n",
    "\n",
    "    def handle(self, request):\n",
    "        if request.format_ == ReportFormat.PDF:\n",
    "            self.output_report(request.title, request.text)\n",
    "        else:\n",
    "            super(PDFHandler, self).handle(request)\n",
    "\n",
    "class TextHandler(Handler):\n",
    "    def handle(self, request):\n",
    "        if request.format_ == ReportFormat.TEXT:\n",
    "            self.output_report(request.title, request.text)\n",
    "        else:\n",
    "            super(TextHandler, self).handle(request)\n",
    "\n",
    "    def output_report(self, title, text):\n",
    "        print (5*'*' + title + 5*'*')\n",
    "        for line in text:\n",
    "            print (line)\n",
    "\n",
    "class ErrorHandler(Handler):\n",
    "    def handle(self, request):\n",
    "        print (\"Invalid request\")\n",
    "\n",
    "if __name__ == '__main__':\n",
    "    report = Report(ReportFormat.TEXT)\n",
    "    pdf_handler = PDFHandler()\n",
    "    text_handler = TextHandler()\n",
    "    pdf_handler.nextHandler = text_handler\n",
    "    text_handler.nextHandler = ErrorHandler() \n",
    "    pdf_handler.handle(report)"
   ]
  },
  {
   "cell_type": "code",
   "execution_count": null,
   "metadata": {},
   "outputs": [],
   "source": []
  }
 ],
 "metadata": {
  "kernelspec": {
   "display_name": "Python 3",
   "language": "python",
   "name": "python3"
  },
  "language_info": {
   "codemirror_mode": {
    "name": "ipython",
    "version": 3
   },
   "file_extension": ".py",
   "mimetype": "text/x-python",
   "name": "python",
   "nbconvert_exporter": "python",
   "pygments_lexer": "ipython3",
   "version": "3.7.3"
  }
 },
 "nbformat": 4,
 "nbformat_minor": 2
}
