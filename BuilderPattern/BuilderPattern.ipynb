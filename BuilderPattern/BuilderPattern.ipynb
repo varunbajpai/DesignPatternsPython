{
 "cells": [
  {
   "cell_type": "code",
   "execution_count": 1,
   "metadata": {},
   "outputs": [
    {
     "name": "stdout",
     "output_type": "stream",
     "text": [
      "Details of carOne: 4-stroke | MRF | 0-160\n"
     ]
    }
   ],
   "source": [
    "class Car():\n",
    "    def __init__(self):\n",
    "        self.engine = None\n",
    "        self.tyres = None\n",
    "        self.speedometer = None\n",
    "    def __str__(self):\n",
    "        return '{} | {} | {}'.format(self.engine, self.tyres, self.speedometer)      \n",
    "\n",
    "class AbstractBuilder():\n",
    "    def __init__(self):\n",
    "        self.car = None\n",
    "    def createNewCar(self):\n",
    "        self.car = Car()\n",
    "\n",
    "class ConcreteBuilder(AbstractBuilder):\n",
    "    def addEngine(self):\n",
    "        self.car.engine = \"4-stroke\"\n",
    "    def addTyres(self):\n",
    "        self.car.tyres = \"MRF\"\n",
    "    def addSpeedometer(self):\n",
    "        self.car.speedometer = \"0-160\"\n",
    "\n",
    "class Director():\n",
    "    def __init__(self, builder):\n",
    "        self._builder = builder\n",
    "    def constructCar(self):\n",
    "        self._builder.createNewCar()\n",
    "        self._builder.addEngine()\n",
    "        self._builder.addTyres()\n",
    "        self._builder.addSpeedometer()\n",
    "    def getCar(self):\n",
    "        return self._builder.car\n",
    "\n",
    "concreteBuilder = ConcreteBuilder()\n",
    "director = Director(concreteBuilder) \n",
    "director.constructCar()\n",
    "carOne = director.getCar()\n",
    "print(\"Details of carOne:\", carOne)"
   ]
  },
  {
   "cell_type": "code",
   "execution_count": null,
   "metadata": {},
   "outputs": [],
   "source": []
  }
 ],
 "metadata": {
  "kernelspec": {
   "display_name": "Python 3",
   "language": "python",
   "name": "python3"
  },
  "language_info": {
   "codemirror_mode": {
    "name": "ipython",
    "version": 3
   },
   "file_extension": ".py",
   "mimetype": "text/x-python",
   "name": "python",
   "nbconvert_exporter": "python",
   "pygments_lexer": "ipython3",
   "version": "3.7.3"
  }
 },
 "nbformat": 4,
 "nbformat_minor": 2
}
