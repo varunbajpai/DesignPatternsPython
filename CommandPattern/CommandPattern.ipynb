{
 "cells": [
  {
   "cell_type": "code",
   "execution_count": 1,
   "metadata": {},
   "outputs": [],
   "source": [
    "from abc import ABC, abstractmethod"
   ]
  },
  {
   "cell_type": "code",
   "execution_count": 2,
   "metadata": {},
   "outputs": [],
   "source": [
    "class Light:\n",
    "    def __init__(self): pass\n",
    "    def on(self):\n",
    "        print(\"Output: Light is turned on\")\n",
    "    def off(self):\n",
    "        print(\"Output: Light is turned off\")\n",
    "        \n",
    "class LightOnCommand:\n",
    "    def __init__(self): \n",
    "        self.light = Light()\n",
    "    def execute(self):\n",
    "        self.light.on()\n",
    "        \n",
    "class LightOffCommand:\n",
    "    def __init__(self): \n",
    "        self.light = Light()\n",
    "    def execute(self):\n",
    "        self.light.off()"
   ]
  },
  {
   "cell_type": "code",
   "execution_count": 3,
   "metadata": {},
   "outputs": [],
   "source": [
    "class Stereo:\n",
    "    def __init__(self): pass\n",
    "    def on(self):\n",
    "        print(\"Output: Stereo is on\")\n",
    "    def off(self):\n",
    "        print(\"Output: Stereo is off\")\n",
    "    def setCD(self):\n",
    "        print(\"Output: Stereo is set for CDInput\")\n",
    "        \n",
    "class StereoOn:\n",
    "    def __init__(self):\n",
    "        self.stereo = Stereo()\n",
    "    def execute(self):\n",
    "        self.stereo.on()\n",
    "\n",
    "class Stereoff:\n",
    "    def __init__(self):\n",
    "        self.stereo = Stereo()\n",
    "    def execute(self):\n",
    "        self.stereo.off()\n",
    "\n",
    "class StereoCD:\n",
    "    def __init__(self):\n",
    "        self.stereo = Stereo()\n",
    "    def execute(self):\n",
    "        self.stereo.setCD()"
   ]
  },
  {
   "cell_type": "code",
   "execution_count": 4,
   "metadata": {},
   "outputs": [],
   "source": [
    "class RemoteControl:\n",
    "    def setCommand(self, command_object):\n",
    "        self.command_object = command_object\n",
    "    def button_pressed(self):\n",
    "        self.command_object.execute()"
   ]
  },
  {
   "cell_type": "code",
   "execution_count": 5,
   "metadata": {},
   "outputs": [
    {
     "name": "stdout",
     "output_type": "stream",
     "text": [
      "Output: Stereo is set for CDInput\n"
     ]
    }
   ],
   "source": [
    "remote_control = RemoteControl()\n",
    "remote_control.setCommand(StereoCD())\n",
    "remote_control.button_pressed()"
   ]
  }
 ],
 "metadata": {
  "kernelspec": {
   "display_name": "Python 3",
   "language": "python",
   "name": "python3"
  },
  "language_info": {
   "codemirror_mode": {
    "name": "ipython",
    "version": 3
   },
   "file_extension": ".py",
   "mimetype": "text/x-python",
   "name": "python",
   "nbconvert_exporter": "python",
   "pygments_lexer": "ipython3",
   "version": "3.7.3"
  }
 },
 "nbformat": 4,
 "nbformat_minor": 2
}
