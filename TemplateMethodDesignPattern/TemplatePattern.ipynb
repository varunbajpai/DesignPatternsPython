{
 "cells": [
  {
   "cell_type": "code",
   "execution_count": null,
   "metadata": {},
   "outputs": [],
   "source": [
    "import abc\n",
    "\n",
    "\n",
    "class AbstractClass(metaclass=abc.ABCMeta):\n",
    "    \"\"\"\n",
    "    Define abstract primitive operations that concrete subclasses define\n",
    "    to implement steps of an algorithm.\n",
    "    Implement a template method defining the skeleton of an algorithm.\n",
    "    The template method calls primitive operations as well as operations\n",
    "    defined in AbstractClass or those of other objects.\n",
    "    \"\"\"\n",
    "\n",
    "    def template_method(self):\n",
    "        self._primitive_operation_1()\n",
    "        self._primitive_operation_2()\n",
    "\n",
    "    @abc.abstractmethod\n",
    "    def _primitive_operation_1(self):\n",
    "        pass\n",
    "\n",
    "    @abc.abstractmethod\n",
    "    def _primitive_operation_2(self):\n",
    "        pass\n",
    "\n",
    "\n",
    "class ConcreteClass(AbstractClass):\n",
    "    \"\"\"\n",
    "    Implement the primitive operations to carry out\n",
    "    subclass-specificsteps of the algorithm.\n",
    "    \"\"\"\n",
    "\n",
    "    def _primitive_operation_1(self):\n",
    "        pass\n",
    "\n",
    "    def _primitive_operation_2(self):\n",
    "        pass\n",
    "\n",
    "\n",
    "def main():\n",
    "    concrete_class = ConcreteClass()\n",
    "    concrete_class.template_method()\n",
    "\n",
    "\n",
    "if __name__ == \"__main__\":\n",
    "    main()\n"
   ]
  }
 ],
 "metadata": {
  "kernelspec": {
   "display_name": "Python 3",
   "language": "python",
   "name": "python3"
  },
  "language_info": {
   "codemirror_mode": {
    "name": "ipython",
    "version": 3
   },
   "file_extension": ".py",
   "mimetype": "text/x-python",
   "name": "python",
   "nbconvert_exporter": "python",
   "pygments_lexer": "ipython3",
   "version": "3.7.3"
  }
 },
 "nbformat": 4,
 "nbformat_minor": 2
}
