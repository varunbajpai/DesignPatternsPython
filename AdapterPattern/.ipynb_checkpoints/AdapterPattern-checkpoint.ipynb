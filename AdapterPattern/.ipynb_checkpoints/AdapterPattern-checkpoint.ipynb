{
 "cells": [
  {
   "cell_type": "code",
   "execution_count": 1,
   "metadata": {},
   "outputs": [],
   "source": [
    "from abc import ABC, abstractmethod"
   ]
  },
  {
   "cell_type": "code",
   "execution_count": 2,
   "metadata": {},
   "outputs": [],
   "source": [
    "class Bird(ABC):\n",
    "    def __init__(self): pass\n",
    "    @abstractmethod\n",
    "    def fly(): pass\n",
    "    @abstractmethod\n",
    "    def make_sound(): pass\n",
    "    \n",
    "class Sparrow(Bird):\n",
    "    def __init__(self):\n",
    "        pass\n",
    "    def fly(self):\n",
    "        print(\"Flying\")\n",
    "    def make_sound(self):\n",
    "        print(\"Output: Bird Sound\")"
   ]
  },
  {
   "cell_type": "code",
   "execution_count": 3,
   "metadata": {},
   "outputs": [],
   "source": [
    "class ToyDuck(ABC):\n",
    "    def __init__(self): pass\n",
    "    @abstractmethod\n",
    "    def quack(): pass\n",
    "    \n",
    "class PlasticToyDuck(ToyDuck):\n",
    "    def __init__(self):\n",
    "        pass\n",
    "    def fly(self):\n",
    "        print(\"The plastic duck does not fly\")\n",
    "    def quack(self):\n",
    "        print(\"Output: quack\")"
   ]
  },
  {
   "cell_type": "code",
   "execution_count": 4,
   "metadata": {},
   "outputs": [],
   "source": [
    "class BirdAdapter(PlasticToyDuck):\n",
    "    def __init__(self, bird): \n",
    "        self = bird\n",
    "        \n",
    "    def quack(self):\n",
    "        print('Output: Bird Sound')"
   ]
  },
  {
   "cell_type": "code",
   "execution_count": 5,
   "metadata": {},
   "outputs": [],
   "source": [
    "sparrow = Sparrow()\n",
    "duck = PlasticToyDuck()\n",
    "birdadapter = BirdAdapter(sparrow)"
   ]
  },
  {
   "cell_type": "code",
   "execution_count": 6,
   "metadata": {},
   "outputs": [
    {
     "name": "stdout",
     "output_type": "stream",
     "text": [
      "Output: Bird Sound\n",
      "Output: quack\n",
      "Output: Bird Sound\n"
     ]
    }
   ],
   "source": [
    "sparrow.make_sound()\n",
    "duck.quack()\n",
    "birdadapter.quack()"
   ]
  },
  {
   "cell_type": "code",
   "execution_count": null,
   "metadata": {},
   "outputs": [],
   "source": []
  },
  {
   "cell_type": "code",
   "execution_count": null,
   "metadata": {},
   "outputs": [],
   "source": []
  },
  {
   "cell_type": "code",
   "execution_count": null,
   "metadata": {},
   "outputs": [],
   "source": []
  }
 ],
 "metadata": {
  "kernelspec": {
   "display_name": "Python 3",
   "language": "python",
   "name": "python3"
  },
  "language_info": {
   "codemirror_mode": {
    "name": "ipython",
    "version": 3
   },
   "file_extension": ".py",
   "mimetype": "text/x-python",
   "name": "python",
   "nbconvert_exporter": "python",
   "pygments_lexer": "ipython3",
   "version": "3.7.3"
  }
 },
 "nbformat": 4,
 "nbformat_minor": 2
}
