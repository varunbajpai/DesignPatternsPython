{
 "cells": [
  {
   "cell_type": "code",
   "execution_count": 1,
   "metadata": {},
   "outputs": [],
   "source": [
    "from abc import ABC, abstractmethod\n",
    "class SportsScore(ABC):\n",
    "    def __init__(self):\n",
    "        pass\n",
    "    @abstractmethod\n",
    "    def get_current_score(self):\n",
    "        pass"
   ]
  },
  {
   "cell_type": "code",
   "execution_count": 2,
   "metadata": {},
   "outputs": [],
   "source": [
    "class CricketScore(SportsScore):\n",
    "    def __init__(self, runs, overs, wickets):\n",
    "        self.runs = runs\n",
    "        self.overs = overs\n",
    "        self.wickets = wickets\n",
    "    def ChangeScore(self):\n",
    "        self.runs += 1\n",
    "        self.overs += 0.1\n",
    "        self.wickets +=1\n",
    "    def get_current_score(self):\n",
    "        print('runs:',self.runs,'overs:',self.overs,'self.wickets:',self.wickets)"
   ]
  },
  {
   "cell_type": "code",
   "execution_count": 3,
   "metadata": {},
   "outputs": [
    {
     "name": "stdout",
     "output_type": "stream",
     "text": [
      "runs: 1 overs: 0.1 self.wickets: 1\n"
     ]
    }
   ],
   "source": [
    "if __name__ == \"__main__\":\n",
    "    cric_score_object = CricketScore(0,0,0)\n",
    "    cric_score_object.ChangeScore()\n",
    "    cric_score_object.get_current_score()"
   ]
  },
  {
   "cell_type": "code",
   "execution_count": null,
   "metadata": {},
   "outputs": [],
   "source": []
  }
 ],
 "metadata": {
  "kernelspec": {
   "display_name": "Python 3",
   "language": "python",
   "name": "python3"
  },
  "language_info": {
   "codemirror_mode": {
    "name": "ipython",
    "version": 3
   },
   "file_extension": ".py",
   "mimetype": "text/x-python",
   "name": "python",
   "nbconvert_exporter": "python",
   "pygments_lexer": "ipython3",
   "version": "3.7.3"
  }
 },
 "nbformat": 4,
 "nbformat_minor": 2
}
