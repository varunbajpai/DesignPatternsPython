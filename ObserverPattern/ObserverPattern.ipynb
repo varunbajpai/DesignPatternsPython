{
 "cells": [
  {
   "cell_type": "code",
   "execution_count": 3,
   "metadata": {
    "scrolled": true
   },
   "outputs": [],
   "source": [
    "from random import randrange\n",
    "\n",
    "class ConcreteSubject:\n",
    "    _state = None\n",
    "    _observers = []\n",
    "\n",
    "    def attach(self, observer):\n",
    "        self._observers.append(observer)\n",
    "        \n",
    "    def detach(self, observer):\n",
    "        self._observers.remove(observer)\n",
    "        \n",
    "    def notify(self):\n",
    "        print(\"Subject: Notifying observers...\")\n",
    "        for observer in self._observers:\n",
    "            observer.update(self)\n",
    "            \n",
    "    def some_business_logic(self):\n",
    "        self._state = randrange(0, 10)\n",
    "        print(f\"Subject: My state has just changed to: {self._state}\")\n",
    "        self.notify()\n",
    "\n",
    "class ConcreteObserverA:\n",
    "    def update(self, subject):\n",
    "        if subject._state < 3:\n",
    "            print(\"ConcreteObserverA: Reacted to the event\")\n",
    "\n",
    "class ConcreteObserverB:\n",
    "    def update(self, subject):\n",
    "        if subject._state == 0 or subject._state >= 2:\n",
    "            print(\"ConcreteObserverB: Reacted to the event\")"
   ]
  },
  {
   "cell_type": "code",
   "execution_count": 4,
   "metadata": {},
   "outputs": [
    {
     "name": "stdout",
     "output_type": "stream",
     "text": [
      "Subject: My state has just changed to: 8\n",
      "Subject: Notifying observers...\n",
      "ConcreteObserverB: Reacted to the event\n",
      "Subject: My state has just changed to: 2\n",
      "Subject: Notifying observers...\n",
      "ConcreteObserverA: Reacted to the event\n",
      "ConcreteObserverB: Reacted to the event\n",
      "Subject: My state has just changed to: 6\n",
      "Subject: Notifying observers...\n",
      "ConcreteObserverB: Reacted to the event\n"
     ]
    }
   ],
   "source": [
    "if __name__ == \"__main__\":\n",
    "    subject = ConcreteSubject()\n",
    "    observer_a = ConcreteObserverA()\n",
    "    subject.attach(observer_a)\n",
    "    observer_b = ConcreteObserverB()\n",
    "    subject.attach(observer_b)\n",
    "    subject.some_business_logic()\n",
    "    subject.some_business_logic()\n",
    "    subject.detach(observer_a)\n",
    "    subject.some_business_logic()"
   ]
  },
  {
   "cell_type": "code",
   "execution_count": null,
   "metadata": {},
   "outputs": [],
   "source": []
  },
  {
   "cell_type": "code",
   "execution_count": null,
   "metadata": {},
   "outputs": [],
   "source": []
  }
 ],
 "metadata": {
  "kernelspec": {
   "display_name": "Python 3",
   "language": "python",
   "name": "python3"
  },
  "language_info": {
   "codemirror_mode": {
    "name": "ipython",
    "version": 3
   },
   "file_extension": ".py",
   "mimetype": "text/x-python",
   "name": "python",
   "nbconvert_exporter": "python",
   "pygments_lexer": "ipython3",
   "version": "3.7.3"
  }
 },
 "nbformat": 4,
 "nbformat_minor": 2
}
